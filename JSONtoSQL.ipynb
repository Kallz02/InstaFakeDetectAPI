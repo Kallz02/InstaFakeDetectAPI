{
 "cells": [
  {
   "cell_type": "code",
   "execution_count": 16,
   "metadata": {},
   "outputs": [],
   "source": [
    "import sqlite3\n",
    "\n",
    "# connect to the database\n",
    "conn = sqlite3.connect('userData.db')\n",
    "\n",
    "# create a cursor object\n",
    "cursor = conn.cursor()\n",
    "\n"
   ]
  },
  {
   "cell_type": "code",
   "execution_count": null,
   "metadata": {},
   "outputs": [],
   "source": [
    "# create a table to store the data\n",
    "cursor.execute('''CREATE TABLE IF NOT EXISTS user_data\n",
    "             (id INTEGER PRIMARY KEY AUTOINCREMENT,\n",
    "              userFollowerCount INTEGER,\n",
    "              userFollowingCount INTEGER,\n",
    "              userBiographyLength INTEGER,\n",
    "              userMediaCount INTEGER,\n",
    "              userHasProfilPic INTEGER,\n",
    "              userIsPrivate INTEGER,\n",
    "              usernameDigitCount INTEGER,\n",
    "              usernameLength INTEGER,\n",
    "              isFake INTEGER)''')\n",
    "\n"
   ]
  },
  {
   "cell_type": "code",
   "execution_count": null,
   "metadata": {},
   "outputs": [],
   "source": [
    "# parse the JSON file\n",
    "import json\n",
    "\n",
    "with open('realAccountData.json') as f:\n",
    "    data = json.load(f)\n",
    "# insert the data into the table\n",
    "for item in data:\n",
    "    cursor.execute('''INSERT INTO user_data(userFollowerCount, userFollowingCount, userBiographyLength, userMediaCount, userHasProfilPic, userIsPrivate, usernameDigitCount, usernameLength, isFake)\n",
    "                      VALUES (?, ?, ?, ?, ?, ?, ?, ?, ?)''',\n",
    "                      (item['userFollowerCount'], item['userFollowingCount'], item['userBiographyLength'], item['userMediaCount'], item['userHasProfilPic'], item['userIsPrivate'], item['usernameDigitCount'], item['usernameLength'], item['isFake']))\n",
    "\n"
   ]
  },
  {
   "cell_type": "code",
   "execution_count": null,
   "metadata": {},
   "outputs": [],
   "source": [
    "with open('fakeAccountData.json') as f:\n",
    "    data1 = json.load(\n",
    "f)\n",
    "# insert the data into the table\n",
    "for item in data1:\n",
    "    cursor.execute('''INSERT INTO user_data(userFollowerCount, userFollowingCount, userBiographyLength, userMediaCount, userHasProfilPic, userIsPrivate, usernameDigitCount, usernameLength, isFake)\n",
    "                      VALUES (?, ?, ?, ?, ?, ?, ?, ?, ?)''',\n",
    "                      (item['userFollowerCount'], item['userFollowingCount'], item['userBiographyLength'], item['userMediaCount'], item['userHasProfilPic'], item['userIsPrivate'], item['usernameDigitCount'], item['usernameLength'], item['isFake']))\n",
    "# commit the changes and close the connection\n",
    "conn.commit()\n",
    "conn.close()"
   ]
  },
  {
   "cell_type": "code",
   "execution_count": null,
   "metadata": {},
   "outputs": [],
   "source": []
  }
 ],
 "metadata": {
  "kernelspec": {
   "display_name": "ml",
   "language": "python",
   "name": "python3"
  },
  "language_info": {
   "codemirror_mode": {
    "name": "ipython",
    "version": 3
   },
   "file_extension": ".py",
   "mimetype": "text/x-python",
   "name": "python",
   "nbconvert_exporter": "python",
   "pygments_lexer": "ipython3",
   "version": "3.10.10"
  },
  "orig_nbformat": 4
 },
 "nbformat": 4,
 "nbformat_minor": 2
}
